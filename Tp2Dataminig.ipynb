{
 "cells": [
  {
   "cell_type": "code",
   "execution_count": 149,
   "metadata": {},
   "outputs": [],
   "source": [
    "from IPython.display import IFrame\n",
    "from sklearn import datasets\n",
    "import matplotlib\n",
    "import pylab as pl\n",
    "from itertools import cycle\n",
    "from sklearn import naive_bayes\n",
    "import numpy as np\n",
    "from sklearn.model_selection import train_test_split\n",
    "from sklearn.model_selection import KFold\n",
    "from sklearn import tree"
   ]
  },
  {
   "cell_type": "code",
   "execution_count": 14,
   "metadata": {},
   "outputs": [],
   "source": [
    "#1/Jeux de données :\n",
    "#1.1/ Iris"
   ]
  },
  {
   "cell_type": "code",
   "execution_count": 15,
   "metadata": {},
   "outputs": [
    {
     "name": "stdout",
     "output_type": "stream",
     "text": [
      "[[5.1 3.5 1.4 0.2]\n",
      " [4.9 3.  1.4 0.2]\n",
      " [4.7 3.2 1.3 0.2]\n",
      " [4.6 3.1 1.5 0.2]\n",
      " [5.  3.6 1.4 0.2]\n",
      " [5.4 3.9 1.7 0.4]\n",
      " [4.6 3.4 1.4 0.3]\n",
      " [5.  3.4 1.5 0.2]\n",
      " [4.4 2.9 1.4 0.2]\n",
      " [4.9 3.1 1.5 0.1]\n",
      " [5.4 3.7 1.5 0.2]\n",
      " [4.8 3.4 1.6 0.2]\n",
      " [4.8 3.  1.4 0.1]\n",
      " [4.3 3.  1.1 0.1]\n",
      " [5.8 4.  1.2 0.2]\n",
      " [5.7 4.4 1.5 0.4]\n",
      " [5.4 3.9 1.3 0.4]\n",
      " [5.1 3.5 1.4 0.3]\n",
      " [5.7 3.8 1.7 0.3]\n",
      " [5.1 3.8 1.5 0.3]\n",
      " [5.4 3.4 1.7 0.2]\n",
      " [5.1 3.7 1.5 0.4]\n",
      " [4.6 3.6 1.  0.2]\n",
      " [5.1 3.3 1.7 0.5]\n",
      " [4.8 3.4 1.9 0.2]\n",
      " [5.  3.  1.6 0.2]\n",
      " [5.  3.4 1.6 0.4]\n",
      " [5.2 3.5 1.5 0.2]\n",
      " [5.2 3.4 1.4 0.2]\n",
      " [4.7 3.2 1.6 0.2]\n",
      " [4.8 3.1 1.6 0.2]\n",
      " [5.4 3.4 1.5 0.4]\n",
      " [5.2 4.1 1.5 0.1]\n",
      " [5.5 4.2 1.4 0.2]\n",
      " [4.9 3.1 1.5 0.1]\n",
      " [5.  3.2 1.2 0.2]\n",
      " [5.5 3.5 1.3 0.2]\n",
      " [4.9 3.1 1.5 0.1]\n",
      " [4.4 3.  1.3 0.2]\n",
      " [5.1 3.4 1.5 0.2]\n",
      " [5.  3.5 1.3 0.3]\n",
      " [4.5 2.3 1.3 0.3]\n",
      " [4.4 3.2 1.3 0.2]\n",
      " [5.  3.5 1.6 0.6]\n",
      " [5.1 3.8 1.9 0.4]\n",
      " [4.8 3.  1.4 0.3]\n",
      " [5.1 3.8 1.6 0.2]\n",
      " [4.6 3.2 1.4 0.2]\n",
      " [5.3 3.7 1.5 0.2]\n",
      " [5.  3.3 1.4 0.2]\n",
      " [7.  3.2 4.7 1.4]\n",
      " [6.4 3.2 4.5 1.5]\n",
      " [6.9 3.1 4.9 1.5]\n",
      " [5.5 2.3 4.  1.3]\n",
      " [6.5 2.8 4.6 1.5]\n",
      " [5.7 2.8 4.5 1.3]\n",
      " [6.3 3.3 4.7 1.6]\n",
      " [4.9 2.4 3.3 1. ]\n",
      " [6.6 2.9 4.6 1.3]\n",
      " [5.2 2.7 3.9 1.4]\n",
      " [5.  2.  3.5 1. ]\n",
      " [5.9 3.  4.2 1.5]\n",
      " [6.  2.2 4.  1. ]\n",
      " [6.1 2.9 4.7 1.4]\n",
      " [5.6 2.9 3.6 1.3]\n",
      " [6.7 3.1 4.4 1.4]\n",
      " [5.6 3.  4.5 1.5]\n",
      " [5.8 2.7 4.1 1. ]\n",
      " [6.2 2.2 4.5 1.5]\n",
      " [5.6 2.5 3.9 1.1]\n",
      " [5.9 3.2 4.8 1.8]\n",
      " [6.1 2.8 4.  1.3]\n",
      " [6.3 2.5 4.9 1.5]\n",
      " [6.1 2.8 4.7 1.2]\n",
      " [6.4 2.9 4.3 1.3]\n",
      " [6.6 3.  4.4 1.4]\n",
      " [6.8 2.8 4.8 1.4]\n",
      " [6.7 3.  5.  1.7]\n",
      " [6.  2.9 4.5 1.5]\n",
      " [5.7 2.6 3.5 1. ]\n",
      " [5.5 2.4 3.8 1.1]\n",
      " [5.5 2.4 3.7 1. ]\n",
      " [5.8 2.7 3.9 1.2]\n",
      " [6.  2.7 5.1 1.6]\n",
      " [5.4 3.  4.5 1.5]\n",
      " [6.  3.4 4.5 1.6]\n",
      " [6.7 3.1 4.7 1.5]\n",
      " [6.3 2.3 4.4 1.3]\n",
      " [5.6 3.  4.1 1.3]\n",
      " [5.5 2.5 4.  1.3]\n",
      " [5.5 2.6 4.4 1.2]\n",
      " [6.1 3.  4.6 1.4]\n",
      " [5.8 2.6 4.  1.2]\n",
      " [5.  2.3 3.3 1. ]\n",
      " [5.6 2.7 4.2 1.3]\n",
      " [5.7 3.  4.2 1.2]\n",
      " [5.7 2.9 4.2 1.3]\n",
      " [6.2 2.9 4.3 1.3]\n",
      " [5.1 2.5 3.  1.1]\n",
      " [5.7 2.8 4.1 1.3]\n",
      " [6.3 3.3 6.  2.5]\n",
      " [5.8 2.7 5.1 1.9]\n",
      " [7.1 3.  5.9 2.1]\n",
      " [6.3 2.9 5.6 1.8]\n",
      " [6.5 3.  5.8 2.2]\n",
      " [7.6 3.  6.6 2.1]\n",
      " [4.9 2.5 4.5 1.7]\n",
      " [7.3 2.9 6.3 1.8]\n",
      " [6.7 2.5 5.8 1.8]\n",
      " [7.2 3.6 6.1 2.5]\n",
      " [6.5 3.2 5.1 2. ]\n",
      " [6.4 2.7 5.3 1.9]\n",
      " [6.8 3.  5.5 2.1]\n",
      " [5.7 2.5 5.  2. ]\n",
      " [5.8 2.8 5.1 2.4]\n",
      " [6.4 3.2 5.3 2.3]\n",
      " [6.5 3.  5.5 1.8]\n",
      " [7.7 3.8 6.7 2.2]\n",
      " [7.7 2.6 6.9 2.3]\n",
      " [6.  2.2 5.  1.5]\n",
      " [6.9 3.2 5.7 2.3]\n",
      " [5.6 2.8 4.9 2. ]\n",
      " [7.7 2.8 6.7 2. ]\n",
      " [6.3 2.7 4.9 1.8]\n",
      " [6.7 3.3 5.7 2.1]\n",
      " [7.2 3.2 6.  1.8]\n",
      " [6.2 2.8 4.8 1.8]\n",
      " [6.1 3.  4.9 1.8]\n",
      " [6.4 2.8 5.6 2.1]\n",
      " [7.2 3.  5.8 1.6]\n",
      " [7.4 2.8 6.1 1.9]\n",
      " [7.9 3.8 6.4 2. ]\n",
      " [6.4 2.8 5.6 2.2]\n",
      " [6.3 2.8 5.1 1.5]\n",
      " [6.1 2.6 5.6 1.4]\n",
      " [7.7 3.  6.1 2.3]\n",
      " [6.3 3.4 5.6 2.4]\n",
      " [6.4 3.1 5.5 1.8]\n",
      " [6.  3.  4.8 1.8]\n",
      " [6.9 3.1 5.4 2.1]\n",
      " [6.7 3.1 5.6 2.4]\n",
      " [6.9 3.1 5.1 2.3]\n",
      " [5.8 2.7 5.1 1.9]\n",
      " [6.8 3.2 5.9 2.3]\n",
      " [6.7 3.3 5.7 2.5]\n",
      " [6.7 3.  5.2 2.3]\n",
      " [6.3 2.5 5.  1.9]\n",
      " [6.5 3.  5.2 2. ]\n",
      " [6.2 3.4 5.4 2.3]\n",
      " [5.9 3.  5.1 1.8]]\n",
      "[0 0 0 0 0 0 0 0 0 0 0 0 0 0 0 0 0 0 0 0 0 0 0 0 0 0 0 0 0 0 0 0 0 0 0 0 0\n",
      " 0 0 0 0 0 0 0 0 0 0 0 0 0 1 1 1 1 1 1 1 1 1 1 1 1 1 1 1 1 1 1 1 1 1 1 1 1\n",
      " 1 1 1 1 1 1 1 1 1 1 1 1 1 1 1 1 1 1 1 1 1 1 1 1 1 1 2 2 2 2 2 2 2 2 2 2 2\n",
      " 2 2 2 2 2 2 2 2 2 2 2 2 2 2 2 2 2 2 2 2 2 2 2 2 2 2 2 2 2 2 2 2 2 2 2 2 2\n",
      " 2 2]\n"
     ]
    }
   ],
   "source": [
    "irisData = datasets.load_iris()\n",
    "print (irisData.data)\n",
    "print (irisData.target)"
   ]
  },
  {
   "cell_type": "code",
   "execution_count": 16,
   "metadata": {},
   "outputs": [
    {
     "data": {
      "text/html": [
       "\n",
       "        <iframe\n",
       "            width=\"300\"\n",
       "            height=\"200\"\n",
       "            src=\"http://archive.ics.uci.edu/ml/machine-learning-databases/iris/iris.data\"\n",
       "            frameborder=\"0\"\n",
       "            allowfullscreen\n",
       "        ></iframe>\n",
       "        "
      ],
      "text/plain": [
       "<IPython.lib.display.IFrame at 0x180cec54a90>"
      ]
     },
     "execution_count": 16,
     "metadata": {},
     "output_type": "execute_result"
    }
   ],
   "source": [
    "IFrame('http://archive.ics.uci.edu/ml/machine-learning-databases/iris/iris.data',width=300, height=200)"
   ]
  },
  {
   "cell_type": "code",
   "execution_count": 162,
   "metadata": {},
   "outputs": [
    {
     "name": "stdout",
     "output_type": "stream",
     "text": [
      "150\n"
     ]
    }
   ],
   "source": [
    "print(len(irisData.target))\n",
    "#irisData.target.shape"
   ]
  },
  {
   "cell_type": "code",
   "execution_count": 18,
   "metadata": {},
   "outputs": [
    {
     "name": "stdout",
     "output_type": "stream",
     "text": [
      "[5.4 3.4 1.5 0.4]\n"
     ]
    },
    {
     "data": {
      "text/plain": [
       "array(['setosa', 'versicolor', 'virginica'], dtype='<U10')"
      ]
     },
     "execution_count": 18,
     "metadata": {},
     "output_type": "execute_result"
    }
   ],
   "source": [
    "# Target Names\n",
    "print(irisData.data[31])\n",
    "irisData.target_names"
   ]
  },
  {
   "cell_type": "code",
   "execution_count": 19,
   "metadata": {},
   "outputs": [],
   "source": [
    "# Objective de cette methode est plot notre données en 2D classifier par chaque target (chacun on lui donne un couleur) et par rapport a deux attribues \n",
    "# ==> 2 axes dans ce cas l'attr 1 et 2"
   ]
  },
  {
   "cell_type": "code",
   "execution_count": 20,
   "metadata": {},
   "outputs": [],
   "source": [
    "def plot_2D(data, target, target_names):\n",
    "    colors = cycle('rgbcmykw') # cycle de couleurs\n",
    "    target_ids = range(len(target_names))\n",
    "    pl.figure()\n",
    "    for i, c, label in zip(target_ids, colors, target_names):\n",
    "        pl.scatter(data[target == i, 1], data[target == i, 2], c=c, label=label)\n",
    "    pl.plot((2.5, 2.5,2.5,2.5,2.5), 'k-')\n",
    "    pl.legend()\n",
    "    pl.show()"
   ]
  },
  {
   "cell_type": "code",
   "execution_count": 21,
   "metadata": {},
   "outputs": [
    {
     "data": {
      "image/png": "[encoded data removed]",
      "text/plain": [
       "<Figure size 432x288 with 1 Axes>"
      ]
     },
     "metadata": {
      "needs_background": "light"
     },
     "output_type": "display_data"
    }
   ],
   "source": [
    "plot_2D(irisData.data,irisData.target,irisData.target_names)\n",
    "# l'equation y=2.5 qlq soit x | sépare les exemples de la classe(setosa) des exemples des deux autres classes"
   ]
  },
  {
   "cell_type": "code",
   "execution_count": 22,
   "metadata": {},
   "outputs": [],
   "source": [
    "#II- Un premier apprentissage de classiffieur\n",
    "#l'objective de cet exemple est l'utilisation de la methode naive_bayes pour la classification et l'utilisation de \n",
    "# tous les éléments de l'échantillon \n",
    "# sauf le dernier pour l'apprentissage et on essai de predict le 32ème élément de l'échantillon"
   ]
  },
  {
   "cell_type": "code",
   "execution_count": 23,
   "metadata": {},
   "outputs": [
    {
     "name": "stdout",
     "output_type": "stream",
     "text": [
      "[0]\n",
      "[0 0 0 0 0 0 0 0 0 0 0 0 0 0 0 0 0 0 0 0 0 0 0 0 0 0 0 0 0 0 0 0 0 0 0 0 0\n",
      " 0 0 0 0 0 0 0 0 0 0 0 0 0 1 1 1 1 1 1 1 1 1 1 1 1 1 1 1 1 1 1 1 1 1 1 1 1\n",
      " 1 1 1 1 1 1 1 1 1 2 1 1 1 1 1 1 1 1 1 1 1 1 1 1 1 1 2 2 2 2 2 2 2 2 2 2 2\n",
      " 2 2 2 2 2 2 2 2 2 2 2 2 2 2 1 2 2 2 1 2 1 2 1 2 2 2 2 2 2 2 2 2 2 2 2 2 2\n",
      " 2]\n",
      "[0 0 0 0 0 0 0 0 0 0 0 0 0 0 0 0 0 0 0 0 0 0 0 0 0 0 0 0 0 0 0 0 0 0 0 0 0\n",
      " 0 0 0 0 0 0 0 0 0 0 0 0 0 1 1 1 1 1 1 1 1 1 1 1 1 1 1 1 1 1 1 1 1 1 1 1 1\n",
      " 1 1 1 1 1 1 1 1 1 2 1 1 1 1 1 1 1 1 1 1 1 1 1 1 1 1 2 2 2 2 2 2 2 2 2 2 2\n",
      " 2 2 2 2 2 2 2 2 2 2 2 2 2 2 1 2 2 2 1 2 1 2 1 2 2 2 2 2 2 2 2 2 2 2 2 2 2\n",
      " 2 2]\n"
     ]
    }
   ],
   "source": [
    "nb = naive_bayes.MultinomialNB(fit_prior=True)# un algo d'apprentissage4\n",
    "irisData = datasets.load_iris()\n",
    "nb.fit(irisData.data[:-1], irisData.target[:-1])\n",
    "p31 = nb.predict(irisData.data[30:31])\n",
    "print(p31)\n",
    "plast = nb.predict(irisData.data[:-1])\n",
    "print(plast)\n",
    "p = nb.predict(irisData.data[:])\n",
    "print(p)"
   ]
  },
  {
   "cell_type": "code",
   "execution_count": 24,
   "metadata": {},
   "outputs": [
    {
     "data": {
      "text/plain": [
       "array([1, 1, 1, 1, 1, 1, 1, 1, 1, 1, 1, 1, 1, 1, 1, 1, 1, 1, 1, 1, 1, 1,\n",
       "       1, 1, 1, 1, 1, 1, 1, 1, 1, 1, 1, 1, 1, 1, 1, 1, 1, 1, 1, 1, 1, 1,\n",
       "       1, 1, 1, 1, 1])"
      ]
     },
     "execution_count": 24,
     "metadata": {},
     "output_type": "execute_result"
    }
   ],
   "source": [
    "nb = naive_bayes.MultinomialNB(fit_prior=True)\n",
    "nb.fit(irisData.data[:99], irisData.target[:99])\n",
    "nb.predict(irisData.data[100:149])"
   ]
  },
  {
   "cell_type": "code",
   "execution_count": 25,
   "metadata": {},
   "outputs": [],
   "source": [
    "#Ils sont pas cohérent \n",
    "#On doit augmenter la partie d’apprentissage \n",
    "\n",
    "#3/III- Evaluer les performances d'un classiffieur\n",
    "#1. Performances sur l'ensemble d'apprentissage"
   ]
  },
  {
   "cell_type": "code",
   "execution_count": 29,
   "metadata": {},
   "outputs": [
    {
     "name": "stdout",
     "output_type": "stream",
     "text": [
      "0.3333333333333333\n"
     ]
    }
   ],
   "source": [
    "#1.1 Le code suivant permet de compter les erreurs et ainsi de calculer l'erreur d'apprentissage\n",
    "# Methode 1\n",
    "nb = naive_bayes.MultinomialNB(fit_prior=True)# un algo d'apprentissage4\n",
    "irisData = datasets.load_iris()\n",
    "nb.fit(irisData.data[:99], irisData.target[:99])\n",
    "P = nb.predict(irisData.data[:])\n",
    "\n",
    "ea = 0\n",
    "Y = irisData.target\n",
    "for i in range(len(irisData.data)):\n",
    "    if (P[i] != Y[i]):\n",
    "        ea = ea+1\n",
    "print(ea/len(irisData.data))"
   ]
  },
  {
   "cell_type": "code",
   "execution_count": 38,
   "metadata": {},
   "outputs": [
    {
     "data": {
      "text/plain": [
       "0.3333333333333333"
      ]
     },
     "execution_count": 38,
     "metadata": {},
     "output_type": "execute_result"
    }
   ],
   "source": [
    "# Methode 2\n",
    "# compter les valeurs non null\n",
    "T = P-Y\n",
    "np.count_nonzero(T)/len(irisData.target)"
   ]
  },
  {
   "cell_type": "code",
   "execution_count": 36,
   "metadata": {},
   "outputs": [
    {
     "data": {
      "text/plain": [
       "0.6666666666666666"
      ]
     },
     "execution_count": 36,
     "metadata": {},
     "output_type": "execute_result"
    }
   ],
   "source": [
    "# Methode 3\n",
    "# Accuracy a=1-e\n",
    "nb.score(irisData.data,irisData.target)"
   ]
  },
  {
   "cell_type": "code",
   "execution_count": 40,
   "metadata": {},
   "outputs": [
    {
     "name": "stdout",
     "output_type": "stream",
     "text": [
      "[100, 101, 102, 103, 104, 105, 106, 107, 108, 109, 110, 111, 112, 113, 114, 115, 116, 117, 118, 119, 120, 121, 122, 123, 124, 125, 126, 127, 128, 129, 130, 131, 132, 133, 134, 135, 136, 137, 138, 139, 140, 141, 142, 143, 144, 145, 146, 147, 148, 149]\n"
     ]
    }
   ],
   "source": [
    "#Sur quelle(s) données (s) y a-t-il une erreur de prédiction ?\n",
    "l = []\n",
    "for i in range(len(irisData.data)):\n",
    "    if (P[i] != Y[i]):\n",
    "        ea = ea+1\n",
    "        l.append(i)\n",
    "print(l)"
   ]
  },
  {
   "cell_type": "code",
   "execution_count": 72,
   "metadata": {},
   "outputs": [
    {
     "name": "stdout",
     "output_type": "stream",
     "text": [
      "[array([[4.4, 3.2, 1.3, 0.2],\n",
      "       [7.6, 3. , 6.6, 2.1],\n",
      "       [6.4, 3.1, 5.5, 1.8],\n",
      "       [5.6, 3. , 4.5, 1.5],\n",
      "       [6.9, 3.1, 5.1, 2.3],\n",
      "       [5. , 3.4, 1.5, 0.2],\n",
      "       [6.7, 3. , 5.2, 2.3],\n",
      "       [5.1, 3.8, 1.9, 0.4],\n",
      "       [6.3, 2.7, 4.9, 1.8],\n",
      "       [6.7, 3.3, 5.7, 2.5],\n",
      "       [5.8, 2.8, 5.1, 2.4],\n",
      "       [5.2, 3.4, 1.4, 0.2],\n",
      "       [5. , 3.6, 1.4, 0.2],\n",
      "       [6.8, 3.2, 5.9, 2.3],\n",
      "       [7.7, 3.8, 6.7, 2.2],\n",
      "       [6.9, 3.1, 4.9, 1.5],\n",
      "       [4.9, 2.4, 3.3, 1. ],\n",
      "       [7.3, 2.9, 6.3, 1.8],\n",
      "       [5.1, 3.5, 1.4, 0.3],\n",
      "       [7.4, 2.8, 6.1, 1.9],\n",
      "       [6.2, 2.2, 4.5, 1.5],\n",
      "       [4.6, 3.6, 1. , 0.2],\n",
      "       [6. , 3. , 4.8, 1.8],\n",
      "       [6.7, 3.1, 4.4, 1.4],\n",
      "       [6.5, 3. , 5.2, 2. ],\n",
      "       [5.7, 2.6, 3.5, 1. ],\n",
      "       [5.4, 3.9, 1.7, 0.4],\n",
      "       [6.4, 2.9, 4.3, 1.3],\n",
      "       [5.5, 2.4, 3.8, 1.1],\n",
      "       [5. , 3.2, 1.2, 0.2],\n",
      "       [6.7, 3.1, 4.7, 1.5],\n",
      "       [6. , 2.9, 4.5, 1.5],\n",
      "       [6.7, 3.1, 5.6, 2.4],\n",
      "       [5.7, 2.8, 4.1, 1.3],\n",
      "       [7.2, 3.6, 6.1, 2.5],\n",
      "       [6. , 2.7, 5.1, 1.6],\n",
      "       [6.7, 3.3, 5.7, 2.1],\n",
      "       [5.5, 2.6, 4.4, 1.2],\n",
      "       [6.2, 3.4, 5.4, 2.3],\n",
      "       [6.5, 3.2, 5.1, 2. ],\n",
      "       [5.6, 2.8, 4.9, 2. ],\n",
      "       [6.3, 2.3, 4.4, 1.3],\n",
      "       [5.8, 2.7, 3.9, 1.2],\n",
      "       [5.6, 2.7, 4.2, 1.3],\n",
      "       [6. , 2.2, 5. , 1.5],\n",
      "       [4.9, 3. , 1.4, 0.2],\n",
      "       [6.1, 2.6, 5.6, 1.4],\n",
      "       [7.2, 3. , 5.8, 1.6],\n",
      "       [4.6, 3.2, 1.4, 0.2],\n",
      "       [5.6, 3. , 4.1, 1.3],\n",
      "       [5. , 3.3, 1.4, 0.2],\n",
      "       [5.9, 3.2, 4.8, 1.8],\n",
      "       [5.7, 4.4, 1.5, 0.4],\n",
      "       [5.4, 3.7, 1.5, 0.2],\n",
      "       [5.5, 4.2, 1.4, 0.2],\n",
      "       [6.4, 3.2, 5.3, 2.3],\n",
      "       [4.9, 3.1, 1.5, 0.1],\n",
      "       [5.5, 3.5, 1.3, 0.2],\n",
      "       [6.1, 3. , 4.9, 1.8],\n",
      "       [6.2, 2.8, 4.8, 1.8],\n",
      "       [7.7, 3. , 6.1, 2.3],\n",
      "       [6.3, 2.8, 5.1, 1.5],\n",
      "       [5.8, 2.6, 4. , 1.2],\n",
      "       [6.5, 2.8, 4.6, 1.5],\n",
      "       [4.8, 3. , 1.4, 0.1],\n",
      "       [5. , 3.5, 1.6, 0.6],\n",
      "       [5.2, 2.7, 3.9, 1.4],\n",
      "       [6.5, 3. , 5.8, 2.2],\n",
      "       [6.9, 3.1, 5.4, 2.1],\n",
      "       [5.9, 3. , 4.2, 1.5],\n",
      "       [6.3, 3.4, 5.6, 2.4],\n",
      "       [4.8, 3.4, 1.6, 0.2],\n",
      "       [5. , 2. , 3.5, 1. ],\n",
      "       [5.1, 2.5, 3. , 1.1],\n",
      "       [6.7, 2.5, 5.8, 1.8],\n",
      "       [6.3, 3.3, 6. , 2.5],\n",
      "       [5.4, 3.4, 1.5, 0.4],\n",
      "       [4.3, 3. , 1.1, 0.1],\n",
      "       [4.4, 3. , 1.3, 0.2],\n",
      "       [6.1, 2.8, 4.7, 1.2],\n",
      "       [6.4, 2.8, 5.6, 2.1],\n",
      "       [5.7, 3. , 4.2, 1.2],\n",
      "       [7.7, 2.8, 6.7, 2. ],\n",
      "       [5.2, 3.5, 1.5, 0.2],\n",
      "       [6.3, 3.3, 4.7, 1.6],\n",
      "       [6.6, 3. , 4.4, 1.4],\n",
      "       [5.5, 2.4, 3.7, 1. ],\n",
      "       [6.4, 2.8, 5.6, 2.2],\n",
      "       [4.9, 3.1, 1.5, 0.1],\n",
      "       [6.4, 2.7, 5.3, 1.9],\n",
      "       [5.1, 3.5, 1.4, 0.2],\n",
      "       [5.8, 2.7, 5.1, 1.9],\n",
      "       [5.9, 3. , 5.1, 1.8],\n",
      "       [6.1, 2.8, 4. , 1.3],\n",
      "       [7.9, 3.8, 6.4, 2. ],\n",
      "       [6.3, 2.5, 4.9, 1.5],\n",
      "       [6.8, 2.8, 4.8, 1.4],\n",
      "       [6.3, 2.9, 5.6, 1.8],\n",
      "       [6.3, 2.5, 5. , 1.9]]), array([0, 2, 2, 1, 2, 0, 2, 0, 2, 2, 2, 0, 0, 2, 2, 1, 1, 2, 0, 2, 1, 0,\n",
      "       2, 1, 2, 1, 0, 1, 1, 0, 1, 1, 2, 1, 2, 1, 2, 1, 2, 2, 2, 1, 1, 1,\n",
      "       2, 0, 2, 2, 0, 1, 0, 1, 0, 0, 0, 2, 0, 0, 2, 2, 2, 2, 1, 1, 0, 0,\n",
      "       1, 2, 2, 1, 2, 0, 1, 1, 2, 2, 0, 0, 0, 1, 2, 1, 2, 0, 1, 1, 1, 2,\n",
      "       0, 2, 0, 2, 2, 1, 2, 1, 1, 2, 2]), array([[5.1, 3.3, 1.7, 0.5],\n",
      "       [4.6, 3.4, 1.4, 0.3],\n",
      "       [5.2, 4.1, 1.5, 0.1],\n",
      "       [5.5, 2.5, 4. , 1.3],\n",
      "       [6.2, 2.9, 4.3, 1.3],\n",
      "       [6.1, 3. , 4.6, 1.4],\n",
      "       [5.4, 3. , 4.5, 1.5],\n",
      "       [5.6, 2.5, 3.9, 1.1],\n",
      "       [5.6, 2.9, 3.6, 1.3],\n",
      "       [6.7, 3. , 5. , 1.7],\n",
      "       [4.9, 2.5, 4.5, 1.7],\n",
      "       [6.4, 3.2, 4.5, 1.5],\n",
      "       [4.6, 3.1, 1.5, 0.2],\n",
      "       [6.8, 3. , 5.5, 2.1],\n",
      "       [6.9, 3.2, 5.7, 2.3],\n",
      "       [4.8, 3.4, 1.9, 0.2],\n",
      "       [5.3, 3.7, 1.5, 0.2],\n",
      "       [5. , 3. , 1.6, 0.2],\n",
      "       [5.7, 3.8, 1.7, 0.3],\n",
      "       [5.7, 2.8, 4.5, 1.3],\n",
      "       [5.8, 2.7, 5.1, 1.9],\n",
      "       [5.1, 3.4, 1.5, 0.2],\n",
      "       [7.1, 3. , 5.9, 2.1],\n",
      "       [7.7, 2.6, 6.9, 2.3],\n",
      "       [5.1, 3.8, 1.6, 0.2],\n",
      "       [4.4, 2.9, 1.4, 0.2],\n",
      "       [6.1, 2.9, 4.7, 1.4],\n",
      "       [4.9, 3.1, 1.5, 0.1],\n",
      "       [5.4, 3.9, 1.3, 0.4],\n",
      "       [4.7, 3.2, 1.3, 0.2],\n",
      "       [7.2, 3.2, 6. , 1.8],\n",
      "       [5. , 2.3, 3.3, 1. ],\n",
      "       [5.1, 3.8, 1.5, 0.3],\n",
      "       [4.8, 3.1, 1.6, 0.2],\n",
      "       [5.1, 3.7, 1.5, 0.4],\n",
      "       [5.8, 2.7, 4.1, 1. ],\n",
      "       [5.5, 2.3, 4. , 1.3],\n",
      "       [5.8, 4. , 1.2, 0.2],\n",
      "       [5.7, 2.5, 5. , 2. ],\n",
      "       [5.7, 2.9, 4.2, 1.3],\n",
      "       [6.6, 2.9, 4.6, 1.3],\n",
      "       [4.5, 2.3, 1.3, 0.3],\n",
      "       [4.8, 3. , 1.4, 0.3],\n",
      "       [5. , 3.5, 1.3, 0.3],\n",
      "       [6.5, 3. , 5.5, 1.8],\n",
      "       [5.4, 3.4, 1.7, 0.2],\n",
      "       [6. , 3.4, 4.5, 1.6],\n",
      "       [6. , 2.2, 4. , 1. ],\n",
      "       [7. , 3.2, 4.7, 1.4],\n",
      "       [5. , 3.4, 1.6, 0.4]]), array([0, 0, 0, 1, 1, 1, 1, 1, 1, 1, 2, 1, 0, 2, 2, 0, 0, 0, 0, 1, 2, 0,\n",
      "       2, 2, 0, 0, 1, 0, 0, 0, 2, 1, 0, 0, 0, 1, 1, 0, 2, 1, 1, 0, 0, 0,\n",
      "       2, 0, 1, 1, 1, 0])]\n"
     ]
    }
   ],
   "source": [
    "# 2 / Performances en généralisation\n",
    "# 2.1. Estimer l'erreur réelle par division de l'échantillon d'apprentissage\n",
    "# 2.1.a split  va deviser notre dataset en deux : une pour le test et l'autre pour le training S1 = 2/3 S , S2 = 1/3 S \n",
    "# P : pourcentage de l'echantillon dans ce cas 0.66\n",
    "# S : iris dataset\n",
    "def split(S,P) :\n",
    "    # on permute les index aleatoirement et on fait le split\n",
    "    m = len(S.data) \n",
    "    idx = np.random.permutation(m)  \n",
    "    dataS1, dataS2 = S.data[idx[:round(P*m)],:], S.data[idx[round(P*m)+1:],:]\n",
    "    targetS1, targetS2 = S.target[idx[:round(P*m)]], S.target[idx[round(P*m)+1:]]\n",
    "    return [dataS1, targetS1, dataS2, targetS2]\n",
    "\n",
    "print(split(irisData,0.66))\n",
    "    "
   ]
  },
  {
   "cell_type": "code",
   "execution_count": 137,
   "metadata": {
    "scrolled": true
   },
   "outputs": [],
   "source": [
    "# 2.1.b test methode pour tester l'accuracy de notre modele de classification \n",
    "# P : poucentage de l'echantillon ,\n",
    "# cross : 1 si on utilise le ( cross validation ) et 0 si on utilise le random split et 2 si on utilise le Kfold \n",
    "# clf : le classificateur\n",
    "# k : est un parametre optionnel si cross = 2 on utilise le kfold cross validation k represente le nbr de foldss\n",
    "def test(S,clf,P,cross, nbr = 10) :\n",
    "    if(cross == 0) :\n",
    "        [dataS1, targetS1, dataS2, targetS2] = split(S,P)\n",
    "    else :\n",
    "        if(cross == 1) :        \n",
    "            [dataS1, dataS2, targetS1, targetS2] = train_test_split( S.data, S.target, test_size=0.33) \n",
    "        else :\n",
    "            somme = 0\n",
    "            kf = KFold(n_splits=nbr)\n",
    "            for train, test in kf.split(S.target):\n",
    "                clf.fit(S.data[train], S.target[train])\n",
    "                somme = somme + clf.score(S.data[test], S.target[test])\n",
    "            return somme / nbr\n",
    "    clf.fit(dataS1, targetS1)\n",
    "    #print('The accuracy of the classifier on training data is {:.2f}'.format(clf.score(dataS1, targetS1)))\n",
    "    #print('The accuracy of the classifier on test data is {:.2f}'.format(clf.score(dataS2, targetS2)))\n",
    "    return clf.score(dataS2, targetS2)\n"
   ]
  },
  {
   "cell_type": "code",
   "execution_count": 112,
   "metadata": {},
   "outputs": [
    {
     "data": {
      "text/plain": [
       "0.96"
      ]
     },
     "execution_count": 112,
     "metadata": {},
     "output_type": "execute_result"
    }
   ],
   "source": [
    "#Testez cette fonction sur iris avec naive Bayes.\n",
    "clf = naive_bayes.MultinomialNB(fit_prior=True)\n",
    "test(irisData,clf,0.66,0)\n",
    "# l'erreur est plus petit que la partie precedente \n",
    "# On obtient pas toujours la même estimation pour l'erreur réelle parceque notre individus de test change chaque fois"
   ]
  },
  {
   "cell_type": "code",
   "execution_count": 86,
   "metadata": {},
   "outputs": [
    {
     "name": "stdout",
     "output_type": "stream",
     "text": [
      "[0.7959999999999999, 0.786, 0.77, 0.8400000000000001, 0.724, 0.8799999999999999, 0.726, 0.8400000000000001, 0.7939999999999999, 0.7799999999999999, 0.8139999999999998, 0.808, 0.8, 0.8160000000000001, 0.798, 0.8300000000000001, 0.7939999999999999, 0.7699999999999999, 0.732, 0.8]\n"
     ]
    }
   ],
   "source": [
    "# 2.1.c repeter t fois les tests et on calcule la moyenne des erreurs\n",
    "# t : nombre de fois quand on va repeter le test\n",
    "# cross : 1 si on utilise le ( cross validation ) et 0 si on utilise le random split et 2 si on utilise le Kfold \n",
    "def moyErreur( t, S, clf, P, cross) : \n",
    "    moyErr = []\n",
    "    n = 20\n",
    "    for i in range(n):\n",
    "        somme = 0\n",
    "        for i in range(t):\n",
    "            somme = somme + test(S,clf,P,cross)\n",
    "        moyErr.append(somme / t)\n",
    "    print(moyErr)\n",
    "\n",
    "# vous pouvez tester avec n'importe qu'elle t = [10,50,100,1000]\n",
    "moyErreur(10,irisData,clf,0.66,0)"
   ]
  },
  {
   "cell_type": "code",
   "execution_count": 87,
   "metadata": {},
   "outputs": [
    {
     "name": "stdout",
     "output_type": "stream",
     "text": [
      "[0.8189999999999994, 0.8111999999999999, 0.8034000000000002, 0.804, 0.7967999999999995, 0.8115999999999995, 0.7642000000000002, 0.7847999999999996, 0.7718, 0.7859999999999997, 0.8069999999999996, 0.7981999999999998, 0.7858000000000003, 0.8090000000000002, 0.7747999999999999, 0.8044000000000002, 0.8141999999999997, 0.7817999999999996, 0.8147999999999999, 0.8027999999999997]\n"
     ]
    }
   ],
   "source": [
    "moyErreur(100,irisData,clf,0.66,0)"
   ]
  },
  {
   "cell_type": "code",
   "execution_count": 88,
   "metadata": {},
   "outputs": [
    {
     "name": "stdout",
     "output_type": "stream",
     "text": [
      "[0.8008200000000018, 0.8017200000000029, 0.7968400000000013, 0.7987600000000027, 0.8004200000000019, 0.8066600000000029, 0.7964800000000023, 0.7967000000000025, 0.7897800000000019, 0.7976200000000025, 0.7998600000000017, 0.7980800000000008, 0.800420000000002, 0.7972200000000005, 0.8049400000000015, 0.7945000000000008, 0.7970800000000028, 0.8002600000000024, 0.8056800000000026, 0.7957600000000026]\n"
     ]
    }
   ],
   "source": [
    "moyErreur(1000,irisData,clf,0.66,0)"
   ]
  },
  {
   "cell_type": "code",
   "execution_count": null,
   "metadata": {},
   "outputs": [],
   "source": [
    "# pour chaque t, l'erreur moyenne n'est pas réellement stable mais lorsque on fait agrandir t notre erreur moyenne converge "
   ]
  },
  {
   "cell_type": "code",
   "execution_count": null,
   "metadata": {},
   "outputs": [],
   "source": [
    "# 2.1.d on peut prend seulement 1/10 pour l'echantillon de test"
   ]
  },
  {
   "cell_type": "code",
   "execution_count": 79,
   "metadata": {},
   "outputs": [
    {
     "name": "stdout",
     "output_type": "stream",
     "text": [
      "[0.9857142857142858, 0.892857142857143, 0.8071428571428572, 0.9214285714285714, 0.8571428571428571, 0.8714285714285713, 0.85, 0.9214285714285714, 0.8428571428571429, 0.9428571428571428, 0.8142857142857143, 0.8571428571428573, 0.7, 0.9285714285714286, 0.8642857142857144, 0.9142857142857143, 0.8428571428571427, 0.9071428571428573, 0.9, 0.8071428571428572]\n"
     ]
    }
   ],
   "source": [
    "moyErreur(10,irisData,clf,0.9,0)"
   ]
  },
  {
   "cell_type": "code",
   "execution_count": 80,
   "metadata": {},
   "outputs": [
    {
     "name": "stdout",
     "output_type": "stream",
     "text": [
      "[0.883571428571429, 0.8764285714285716, 0.8807142857142858, 0.8628571428571433, 0.8678571428571433, 0.890714285714286, 0.8700000000000006, 0.888571428571429, 0.8635714285714292, 0.8785714285714289, 0.8978571428571432, 0.8785714285714289, 0.8542857142857148, 0.8871428571428578, 0.8664285714285718, 0.8807142857142864, 0.8864285714285716, 0.8792857142857144, 0.8664285714285714, 0.8871428571428578]\n"
     ]
    }
   ],
   "source": [
    "moyErreur(100,irisData,clf,0.9,0)"
   ]
  },
  {
   "cell_type": "code",
   "execution_count": 81,
   "metadata": {},
   "outputs": [
    {
     "name": "stdout",
     "output_type": "stream",
     "text": [
      "[0.8816428571428612, 0.872071428571433, 0.871642857142861, 0.8745714285714336, 0.8770000000000052, 0.8750714285714328, 0.8759285714285766, 0.8786428571428617, 0.8790000000000052, 0.8810000000000053, 0.8780000000000049, 0.8672857142857193, 0.8670000000000041, 0.8799285714285758, 0.8800000000000048, 0.8762857142857199, 0.8718571428571479, 0.8750714285714323, 0.8800000000000049, 0.8712857142857174]\n"
     ]
    }
   ],
   "source": [
    "moyErreur(1000,irisData,clf,0.9,0)"
   ]
  },
  {
   "cell_type": "code",
   "execution_count": null,
   "metadata": {},
   "outputs": [],
   "source": [
    "# dans le cas d'un échantillon de test qui ne prend que le 10ème de l'échantillon initial,l'erreur est plus petit que \n",
    "# qu'avec la proportion d'1/3"
   ]
  },
  {
   "cell_type": "code",
   "execution_count": null,
   "metadata": {},
   "outputs": [],
   "source": [
    "# 2.1.f Cross Validation Exemple"
   ]
  },
  {
   "cell_type": "code",
   "execution_count": 95,
   "metadata": {},
   "outputs": [
    {
     "name": "stdout",
     "output_type": "stream",
     "text": [
      "[0.8380000000000001, 0.7860000000000001, 0.8220000000000001, 0.768, 0.778, 0.8400000000000001, 0.812, 0.8320000000000001, 0.766, 0.8259999999999998, 0.7260000000000001, 0.8539999999999999, 0.7660000000000001, 0.7959999999999999, 0.8139999999999998, 0.7639999999999999, 0.7699999999999999, 0.8139999999999998, 0.826, 0.8260000000000002]\n"
     ]
    }
   ],
   "source": [
    "moyErreur(10,irisData,clf,0.66,1)"
   ]
  },
  {
   "cell_type": "code",
   "execution_count": 96,
   "metadata": {},
   "outputs": [
    {
     "name": "stdout",
     "output_type": "stream",
     "text": [
      "[0.8161999999999998, 0.7647999999999999, 0.7903999999999999, 0.8037999999999998, 0.8113999999999999, 0.806, 0.8018000000000001, 0.7797999999999996, 0.8074000000000002, 0.8176000000000001, 0.7943999999999999, 0.8002000000000002, 0.7955999999999999, 0.8015999999999999, 0.8032, 0.8055999999999994, 0.8225999999999994, 0.7988000000000001, 0.7969999999999999, 0.7933999999999998]\n"
     ]
    }
   ],
   "source": [
    "moyErreur(100,irisData,clf,0.66,1)"
   ]
  },
  {
   "cell_type": "code",
   "execution_count": 97,
   "metadata": {},
   "outputs": [
    {
     "name": "stdout",
     "output_type": "stream",
     "text": [
      "[0.8008800000000013, 0.7986000000000013, 0.8022600000000033, 0.8002200000000026, 0.8105800000000017, 0.8054200000000019, 0.8021400000000023, 0.7980800000000021, 0.8067200000000023, 0.7943800000000021, 0.7958800000000021, 0.7949000000000018, 0.7987000000000009, 0.8033800000000035, 0.7997200000000013, 0.8039800000000027, 0.8034600000000026, 0.7950600000000032, 0.8045000000000009, 0.8008600000000032]\n"
     ]
    }
   ],
   "source": [
    "moyErreur(1000,irisData,clf,0.66,1)"
   ]
  },
  {
   "cell_type": "code",
   "execution_count": null,
   "metadata": {},
   "outputs": [],
   "source": [
    "#2.2 Estimer l'erreur réelle par validation croisée KFold"
   ]
  },
  {
   "cell_type": "code",
   "execution_count": 145,
   "metadata": {},
   "outputs": [
    {
     "data": {
      "text/plain": [
       "0.16666666666666666"
      ]
     },
     "execution_count": 145,
     "metadata": {},
     "output_type": "execute_result"
    }
   ],
   "source": [
    "test(irisData,clf,0.66,2,2)"
   ]
  },
  {
   "cell_type": "code",
   "execution_count": 146,
   "metadata": {},
   "outputs": [
    {
     "data": {
      "text/plain": [
       "0.3933333333333333"
      ]
     },
     "execution_count": 146,
     "metadata": {},
     "output_type": "execute_result"
    }
   ],
   "source": [
    "test(irisData,clf,0.66,2,5)"
   ]
  },
  {
   "cell_type": "code",
   "execution_count": 147,
   "metadata": {},
   "outputs": [
    {
     "data": {
      "text/plain": [
       "0.375"
      ]
     },
     "execution_count": 147,
     "metadata": {},
     "output_type": "execute_result"
    }
   ],
   "source": [
    "test(irisData,clf,0.66,2,8)"
   ]
  },
  {
   "cell_type": "code",
   "execution_count": 148,
   "metadata": {},
   "outputs": [
    {
     "data": {
      "text/plain": [
       "0.39333333333333337"
      ]
     },
     "execution_count": 148,
     "metadata": {},
     "output_type": "execute_result"
    }
   ],
   "source": [
    "test(irisData,clf,0.66,2,10)"
   ]
  },
  {
   "cell_type": "code",
   "execution_count": null,
   "metadata": {},
   "outputs": [],
   "source": [
    "# On va utiliser maintenant la methode de classification  sklearn.tree.DecisionTreeClassifier "
   ]
  },
  {
   "cell_type": "code",
   "execution_count": 150,
   "metadata": {},
   "outputs": [],
   "source": [
    "clf = tree.DecisionTreeClassifier()"
   ]
  },
  {
   "cell_type": "code",
   "execution_count": 151,
   "metadata": {},
   "outputs": [
    {
     "name": "stdout",
     "output_type": "stream",
     "text": [
      "[0.9427999999999999, 0.9453999999999994, 0.9509999999999995, 0.9427999999999996, 0.9484, 0.9433999999999996, 0.9441999999999995, 0.9495999999999988, 0.9414, 0.9486000000000001, 0.9455999999999993, 0.9407999999999993, 0.9415999999999992, 0.9451999999999997, 0.9473999999999996, 0.9445999999999999, 0.9459999999999994, 0.9418, 0.9491999999999992, 0.9441999999999995]\n"
     ]
    }
   ],
   "source": [
    "# avec le random split\n",
    "moyErreur(100,irisData,clf,0.66,0)"
   ]
  },
  {
   "cell_type": "code",
   "execution_count": 154,
   "metadata": {},
   "outputs": [
    {
     "name": "stdout",
     "output_type": "stream",
     "text": [
      "[0.9500000000000003, 0.9342857142857147, 0.9400000000000006, 0.9528571428571433, 0.956428571428572, 0.9407142857142862, 0.9450000000000003, 0.9492857142857146, 0.9407142857142864, 0.9564285714285718, 0.9435714285714292, 0.9464285714285721, 0.9471428571428576, 0.9500000000000004, 0.9342857142857147, 0.9414285714285724, 0.9528571428571432, 0.9585714285714289, 0.9321428571428575, 0.9485714285714291]\n"
     ]
    }
   ],
   "source": [
    "# avec 1/10 pour l'echantillon de test\n",
    "moyErreur(100,irisData,clf,0.9,0)"
   ]
  },
  {
   "cell_type": "code",
   "execution_count": 155,
   "metadata": {},
   "outputs": [
    {
     "name": "stdout",
     "output_type": "stream",
     "text": [
      "[0.9433999999999998, 0.9425999999999993, 0.9409999999999994, 0.943, 0.9485999999999991, 0.9445999999999993, 0.9447999999999991, 0.9438, 0.9451999999999993, 0.9439999999999997, 0.9483999999999996, 0.9415999999999992, 0.9509999999999998, 0.9417999999999997, 0.9439999999999995, 0.948199999999999, 0.9427999999999996, 0.9505999999999993, 0.9425999999999993, 0.9495999999999996]\n"
     ]
    }
   ],
   "source": [
    "# avec le cross validation \n",
    "moyErreur(100,irisData,clf,0.66,1)"
   ]
  },
  {
   "cell_type": "code",
   "execution_count": 157,
   "metadata": {},
   "outputs": [
    {
     "data": {
      "text/plain": [
       "0.9400000000000002"
      ]
     },
     "execution_count": 157,
     "metadata": {},
     "output_type": "execute_result"
    }
   ],
   "source": [
    "# avec le Kfold cross validation \n",
    "test(irisData,clf,0.66,2)"
   ]
  },
  {
   "cell_type": "code",
   "execution_count": 161,
   "metadata": {},
   "outputs": [
    {
     "name": "stdout",
     "output_type": "stream",
     "text": [
      "donc on constate que les erreurs obtenues par la méthode arbre de décision est plus petit que celles de la méthode naïve Bayespuisque la précision -- accuracy -- est nettement plus grande\n"
     ]
    }
   ],
   "source": [
    "print(\"donc on constate que les erreurs obtenues par la méthode arbre de décision est plus petit que celles de la méthode naïve Bayes\"+\n",
    "\"puisque la précision -- accuracy -- est nettement plus grande\")"
   ]
  },
  {
   "cell_type": "code",
   "execution_count": null,
   "metadata": {},
   "outputs": [],
   "source": []
  }
 ],
 "metadata": {
  "kernelspec": {
   "display_name": "Python 3",
   "language": "python",
   "name": "python3"
  },
  "language_info": {
   "codemirror_mode": {
    "name": "ipython",
    "version": 3
   },
   "file_extension": ".py",
   "mimetype": "text/x-python",
   "name": "python",
   "nbconvert_exporter": "python",
   "pygments_lexer": "ipython3",
   "version": "3.7.0"
  }
 },
 "nbformat": 4,
 "nbformat_minor": 2
}
